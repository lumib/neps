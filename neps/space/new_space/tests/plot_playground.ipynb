{
 "cells": [
  {
   "cell_type": "code",
   "execution_count": 21,
   "id": "9233c717",
   "metadata": {},
   "outputs": [
    {
     "name": "stdout",
     "output_type": "stream",
     "text": [
      "     config.SAMPLING__Resolvable.program.args.resampled_categorical::categorical__20  \\\n",
      "id                                                                                     \n",
      "1_2                                                 13                                 \n",
      "\n",
      "     config.SAMPLING__Resolvable.program.args[0].resampled_operation.args.resampled_categorical::categorical__3  \\\n",
      "id                                                                                                                \n",
      "1_2                                                  0                                                            \n",
      "\n",
      "     config.SAMPLING__Resolvable.program.args[0].resampled_operation.kwargs{store}.resampled_integer::integer__9_20_False  \\\n",
      "id                                                                                                                          \n",
      "1_2                                                 11                                                                      \n",
      "\n",
      "     config.SAMPLING__Resolvable.program.args[0].resampled_operation.args[0].resampled_categorical::categorical__16  \\\n",
      "id                                                                                                                    \n",
      "1_2                                                  0                                                                \n",
      "\n",
      "     config.SAMPLING__Resolvable.program.args[0].resampled_operation.args[1].resampled_categorical::categorical__3  \\\n",
      "id                                                                                                                   \n",
      "1_2                                                  0                                                               \n",
      "\n",
      "     config.SAMPLING__Resolvable.program.args[0].resampled_operation.args[1].resampled_categorical.sampled_value.resampled_categorical::categorical__3  \\\n",
      "id                                                                                                                                                       \n",
      "1_2                                                  1                                                                                                   \n",
      "\n",
      "     config.SAMPLING__Resolvable.program.args[1].resampled_operation.args.resampled_categorical::categorical__3  \\\n",
      "id                                                                                                                \n",
      "1_2                                                  1                                                            \n",
      "\n",
      "     config.SAMPLING__Resolvable.program.args[1].resampled_operation.kwargs{store}.resampled_integer::integer__9_20_False  \\\n",
      "id                                                                                                                          \n",
      "1_2                                                  9                                                                      \n",
      "\n",
      "     config.SAMPLING__Resolvable.program.args[1].resampled_operation.args[0].resampled_categorical::categorical__8  \\\n",
      "id                                                                                                                   \n",
      "1_2                                                  4                                                               \n",
      "\n",
      "     config.SAMPLING__Resolvable.program.args[1].resampled_operation.args[1].resampled_categorical::categorical__3  \\\n",
      "id                                                                                                                   \n",
      "1_2                                                  1                                                               \n",
      "\n",
      "     ...  reported_as  evaluation_duration  \\\n",
      "id   ...                                     \n",
      "1_2  ...      success                0.047   \n",
      "\n",
      "                                              location          state  \\\n",
      "id                                                                      \n",
      "1_2  C:\\Users\\Amega\\Git\\neps-lum\\neps\\space\\new_spa...  State.SUCCESS   \n",
      "\n",
      "                        sampling_worker_id      time_sampled  \\\n",
      "id                                                             \n",
      "1_2  2444-2025-06-04T23:24:04.060421+00:00  1749079444.07342   \n",
      "\n",
      "                      evaluating_worker_id  evaluation_duration  \\\n",
      "id                                                                \n",
      "1_2  2444-2025-06-04T23:24:04.060421+00:00                0.047   \n",
      "\n",
      "          time_started           time_end  \n",
      "id                                         \n",
      "1_2  1749079444.074423  1749079444.122445  \n",
      "\n",
      "[1 rows x 288 columns]\n"
     ]
    }
   ],
   "source": [
    "from momfpriors.plotting import plot_main\n",
    "from pathlib import Path\n",
    "from neps.plot import plot\n",
    "import neps\n",
    "exp_dir=Path(\"./results/nosbench_resample\")\n",
    "benchmarks_in_dir = [\n",
    "        (f.name.split(\"benchmark=\")[-1].split(\".\")[0])\n",
    "        for f in exp_dir.iterdir() if f.is_dir() and \"benchmark=\" in f.name]\n",
    "# plot_main.make_subplots(exp_dir=Path(\"./results/nosbench_resample\"))\n",
    "# plot_main\n",
    "\n",
    "# plot.plot(exp_dir)\n",
    "\n",
    "_fulldf, _summary = neps.status(exp_dir, print_summary=False)\n",
    "# print(_summary)\n",
    "print(_fulldf.head(1))#.columns[-13:])"
   ]
  }
 ],
 "metadata": {
  "kernelspec": {
   "display_name": ".venv",
   "language": "python",
   "name": "python3"
  },
  "language_info": {
   "codemirror_mode": {
    "name": "ipython",
    "version": 3
   },
   "file_extension": ".py",
   "mimetype": "text/x-python",
   "name": "python",
   "nbconvert_exporter": "python",
   "pygments_lexer": "ipython3",
   "version": "3.12.8"
  }
 },
 "nbformat": 4,
 "nbformat_minor": 5
}
